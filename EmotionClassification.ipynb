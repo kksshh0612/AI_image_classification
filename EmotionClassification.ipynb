{
  "nbformat": 4,
  "nbformat_minor": 0,
  "metadata": {
    "colab": {
      "provenance": []
    },
    "kernelspec": {
      "name": "python3",
      "display_name": "Python 3"
    },
    "language_info": {
      "name": "python"
    },
    "accelerator": "GPU",
    "gpuClass": "standard"
  },
  "cells": [
    {
      "cell_type": "markdown",
      "source": [
        "# **Human Emotion Classification**"
      ],
      "metadata": {
        "id": "WkOvUEp9M7Rm"
      }
    },
    {
      "cell_type": "code",
      "source": [
        "import tensorflow as tf\n",
        "\n",
        "tf.__version__"
      ],
      "metadata": {
        "colab": {
          "base_uri": "https://localhost:8080/",
          "height": 35
        },
        "id": "ThqaP0udNBmw",
        "outputId": "db0a459c-f7ae-42e7-f3ae-8a22a7b214ca"
      },
      "execution_count": null,
      "outputs": [
        {
          "output_type": "execute_result",
          "data": {
            "text/plain": [
              "'2.9.2'"
            ],
            "application/vnd.google.colaboratory.intrinsic+json": {
              "type": "string"
            }
          },
          "metadata": {},
          "execution_count": 1
        }
      ]
    },
    {
      "cell_type": "markdown",
      "source": [
        "## **시작**"
      ],
      "metadata": {
        "id": "8pfK6gCDNLBj"
      }
    },
    {
      "cell_type": "code",
      "source": [
        "import pandas as pd     # pandas DataFrame 이용\n",
        "import numpy as np      \n",
        "from PIL import Image\n",
        "import cv2\n",
        "import matplotlib.pyplot as plt\n",
        "import tensorflow as tf\n",
        "from tensorflow.keras.models import Sequential\n",
        "from tensorflow.keras.layers import Dense, Flatten, BatchNormalization, Dropout\n",
        "from tensorflow.keras.layers import Conv2D, MaxPooling2D, Input\n",
        "\n",
        "import random\n",
        "\n",
        "path = \"/content/drive/MyDrive/Emotion_dataset/\"\n",
        "\n",
        "prior_data = pd.read_csv(path + 'icml_face_data.csv')     # Google Drive에 있는 dataset 로드. 전처리 전의 초기 데이터. Pandas DataFrame\n",
        "\n",
        "print(prior_data.head())    # 첫번째 데이터 임의 출력\n",
        "\n",
        "# 0 = Angry, 1 = Disgust, 2 = Fear, 3 = Happy, 4 = Sad, 5 = Surprise, 6 = Neutral\n",
        "\n",
        "print(\"\\n prior_Data의 colum 종류와 개수\")\n",
        "print(prior_data['emotion'].value_counts())\n",
        "\n",
        "# pixel column은 앞에 한 칸 띄워져있음. 이점 유의...' pixels' 로 써야됨\n",
        "\n",
        "disgust_idx = prior_data[prior_data['emotion'] == 1].index\n",
        "# fear_idx = prior_data[prior_data['emotion'] == 2].index\n",
        "# surprise_idx = prior_data[prior_data['emotion'] == 5].index\n",
        "# dataset1 = prior_data.drop(disgust_idx)      # disgust 데이터가 부족해서 제거한 후의 데이터셋\n",
        "# dataset2 = dataset1.drop(fear_idx)      # disgust 데이터가 부족해서 제거한 후의 데이터셋\n",
        "dataset = prior_data.drop(disgust_idx)      # disgust 데이터가 부족해서 제거한 후의 데이터셋\n",
        "\n",
        "print(\"\\n dataset의 column 종류와 개수\")\n",
        "print(dataset['emotion'].value_counts())\n",
        "\n",
        "# 0 = Angry, 2 = Fear, 3 = Happy, 4 = Sad, 5 = Surprise, 6 = Neutral\n",
        "\n",
        "print(\"\\n첫번째 데이터\")\n",
        "print(dataset[' pixels'][0])\n",
        "print(dataset[' pixels'].shape)\n",
        "print(\"\\n첫번째 데이터 길이(str)\")\n",
        "print(len(dataset[' pixels'][0]))    # 48X48은 2304인데, 데이터 길이가 8287이 나옴. str 되어있어서 데이터 타입을 numpy로 바꿔줘야함.\n",
        "\n",
        "print(\"\\n첫번째 데이터 길이(numpy)\")\n",
        "temp = np.fromstring(dataset[' pixels'][0], dtype=int, sep=' ')    # 공백 기준으로 데이터를 int로 바꾸어 전체 데이터는 numpy(행렬)가 됨.\n",
        "print(len(temp))\n",
        "\n",
        "def Preprocessing(data):\n",
        "    image = np.zeros(shape=(len(data), 48, 48)) # 빈 넘파이형태 (48*48)\n",
        "    label = np.array(list(map(int, data['emotion']))) \n",
        "    for i, row in enumerate(data.index):\n",
        "        df = np.fromstring(data[' pixels'][row], dtype=int, sep=' ') # 공백으로 구분된 데이터를 넘파이로 변경\n",
        "        df = np.reshape(df, (48, 48)) \n",
        "        image[i] = df\n",
        "    return image, label\n",
        "\n",
        "# def Preprocessing(data):\n",
        "#     image = np.zeros(shape=(len(data), 48, 48)) # 빈 넘파이형태 (48*48)\n",
        "#     clean_img = np.zeros(shape=(len(data), 144, 144)) # 빈 넘파이형태 (48*48)\n",
        "#     label = np.array(list(map(int, data['emotion']))) \n",
        "#     for i, row in enumerate(data.index):\n",
        "#         df = np.fromstring(data[' pixels'][row], dtype=int, sep=' ') # 공백으로 구분된 데이터를 넘파이로 변경\n",
        "#         df = np.reshape(df, (48, 48)) \n",
        "#         image[i] = df\n",
        "#         img_resize = cv2.resize(image[i], dsize=(144,144), interpolation=cv2.INTER_CUBIC)\n",
        "#         kernel = np.array([[0, -1, 0], [-1, 5, -1], [0, -1, 0]])\n",
        "\n",
        "#         clean_img[i] = cv2.filter2D(img_resize, -1, kernel)\n",
        "\n",
        "#     return clean_img, label\n",
        "\n"
      ],
      "metadata": {
        "colab": {
          "base_uri": "https://localhost:8080/"
        },
        "id": "S_OamZKLNX7m",
        "outputId": "f07bd0d9-cf79-4b6c-f17e-a3eb8d60fd94"
      },
      "execution_count": null,
      "outputs": [
        {
          "output_type": "stream",
          "name": "stdout",
          "text": [
            "   emotion     Usage                                             pixels\n",
            "0        0  Training  70 80 82 72 58 58 60 63 54 58 60 48 89 115 121...\n",
            "1        0  Training  151 150 147 155 148 133 111 140 170 174 182 15...\n",
            "2        2  Training  231 212 156 164 174 138 161 173 182 200 106 38...\n",
            "3        4  Training  24 32 36 30 32 23 19 20 30 41 21 22 32 34 21 1...\n",
            "4        6  Training  4 0 0 0 0 0 0 0 0 0 0 0 3 15 23 28 48 50 58 84...\n",
            "\n",
            " prior_Data의 colum 종류와 개수\n",
            "3    8989\n",
            "6    6198\n",
            "4    6077\n",
            "2    5121\n",
            "0    4953\n",
            "5    4002\n",
            "1     547\n",
            "Name: emotion, dtype: int64\n",
            "\n",
            " dataset의 column 종류와 개수\n",
            "3    8989\n",
            "6    6198\n",
            "4    6077\n",
            "2    5121\n",
            "0    4953\n",
            "5    4002\n",
            "Name: emotion, dtype: int64\n",
            "\n",
            "첫번째 데이터\n",
            "70 80 82 72 58 58 60 63 54 58 60 48 89 115 121 119 115 110 98 91 84 84 90 99 110 126 143 153 158 171 169 172 169 165 129 110 113 107 95 79 66 62 56 57 61 52 43 41 65 61 58 57 56 69 75 70 65 56 54 105 146 154 151 151 155 155 150 147 147 148 152 158 164 172 177 182 186 189 188 190 188 180 167 116 95 103 97 77 72 62 55 58 54 56 52 44 50 43 54 64 63 71 68 64 52 66 119 156 161 164 163 164 167 168 170 174 175 176 178 179 183 187 190 195 197 198 197 198 195 191 190 145 86 100 90 65 57 60 54 51 41 49 56 47 38 44 63 55 46 52 54 55 83 138 157 158 165 168 172 171 173 176 179 179 180 182 185 187 189 189 192 197 200 199 196 198 200 198 197 177 91 87 96 58 58 59 51 42 37 41 47 45 37 35 36 30 41 47 59 94 141 159 161 161 164 170 171 172 176 178 179 182 183 183 187 189 192 192 194 195 200 200 199 199 200 201 197 193 111 71 108 69 55 61 51 42 43 56 54 44 24 29 31 45 61 72 100 136 150 159 163 162 163 170 172 171 174 177 177 180 187 186 187 189 192 192 194 195 196 197 199 200 201 200 197 201 137 58 98 92 57 62 53 47 41 40 51 43 24 35 52 63 75 104 129 143 149 158 162 164 166 171 173 172 174 178 178 179 187 188 188 191 193 194 195 198 199 199 197 198 197 197 197 201 164 52 78 87 69 58 56 50 54 39 44 42 26 31 49 65 91 119 134 145 147 152 159 163 167 171 170 169 174 178 178 179 187 187 185 187 190 188 187 191 197 201 199 199 200 197 196 197 182 58 62 77 61 60 55 49 59 52 54 44 22 30 47 68 102 123 136 144 148 150 153 157 167 172 173 170 171 177 179 178 186 190 186 189 196 193 191 194 190 190 192 197 201 203 199 194 189 69 48 74 56 60 57 50 59 59 51 41 20 34 47 79 111 132 139 143 145 147 150 151 160 169 172 171 167 171 177 177 174 180 182 181 192 196 189 192 198 195 194 196 198 201 202 195 189 70 39 69 61 61 61 53 59 59 45 40 26 40 61 93 124 135 138 142 144 146 151 152 158 165 168 168 165 161 164 173 172 167 172 167 180 198 198 193 199 195 194 198 200 198 197 195 190 65 35 68 59 59 62 57 60 59 50 44 32 54 90 115 132 137 138 140 144 146 146 156 165 168 174 176 176 175 168 168 169 171 175 171 172 192 194 184 198 205 201 194 195 193 195 192 186 57 38 72 65 57 62 58 57 60 54 49 47 79 116 130 138 141 141 139 141 143 145 157 164 164 166 173 174 176 179 179 176 181 189 188 173 180 175 160 182 189 198 192 189 190 190 188 172 46 44 64 66 59 62 57 56 62 53 50 66 103 133 137 141 143 141 136 132 131 136 127 118 111 107 108 123 131 143 154 158 166 177 181 175 170 159 148 171 161 176 185 192 194 188 190 162 53 49 58 63 61 61 55 56 61 51 50 81 116 139 142 142 146 144 136 128 119 112 97 85 90 91 88 92 90 80 81 84 106 122 132 144 145 144 147 163 147 163 173 181 190 187 191 167 61 48 53 61 61 58 54 56 61 51 53 89 123 140 144 145 146 147 136 122 107 99 95 92 90 87 83 76 67 52 46 52 63 69 83 96 119 132 148 159 136 137 143 138 143 152 156 156 70 48 50 59 61 57 54 54 61 52 56 93 124 135 140 144 148 150 140 125 114 101 80 54 56 54 41 41 33 40 39 35 49 60 63 74 107 129 147 147 116 111 100 77 76 86 108 111 73 49 50 60 62 60 57 55 63 59 56 89 121 134 139 146 151 152 150 141 127 111 96 77 85 70 32 31 37 91 65 50 48 59 73 83 112 136 155 130 60 46 38 40 43 81 116 91 72 52 48 58 62 62 59 53 61 59 52 85 114 134 140 147 154 159 158 153 145 143 150 126 121 125 68 45 89 137 95 70 78 75 95 109 131 153 171 94 23 16 32 82 82 65 113 77 71 54 48 56 62 62 60 53 60 56 52 75 108 133 141 149 158 166 169 167 163 156 155 146 112 119 134 127 142 140 121 117 129 114 120 129 146 174 191 98 46 33 33 109 147 98 109 67 73 55 50 56 64 64 61 58 61 53 54 64 106 129 140 148 159 169 175 176 174 165 159 156 145 120 115 124 127 131 133 141 147 142 141 147 161 182 202 154 114 96 100 158 158 153 123 61 76 57 48 56 64 64 63 62 61 54 55 44 97 131 137 147 158 168 177 181 183 179 170 168 169 165 155 152 151 152 154 162 165 158 153 158 168 187 206 186 147 135 144 145 152 178 115 57 74 58 48 58 64 63 63 59 63 55 53 66 104 130 132 144 153 162 170 180 185 187 181 178 182 180 177 173 171 171 177 176 172 164 161 167 164 185 207 197 173 152 141 141 161 191 104 54 69 60 48 57 65 62 60 57 64 55 50 94 111 124 130 135 150 159 163 172 179 184 184 178 178 177 173 171 174 177 178 176 169 165 161 163 161 180 205 201 183 171 177 178 180 194 101 55 65 60 47 55 65 63 59 58 63 57 52 90 105 117 122 130 143 153 157 163 171 174 182 183 182 178 174 175 175 177 175 172 163 161 159 157 162 178 200 201 188 181 172 177 187 198 98 57 63 61 48 52 61 64 63 60 65 57 51 95 104 113 117 127 136 145 152 156 162 162 165 173 177 182 183 183 180 181 177 165 153 154 152 153 160 174 193 200 188 185 180 182 192 196 101 60 60 56 49 50 60 66 64 62 64 59 53 99 104 111 112 118 132 142 147 155 158 160 159 162 171 176 184 186 183 180 169 154 141 135 145 155 164 180 196 205 188 189 188 189 193 192 98 61 64 55 49 49 60 66 63 64 63 60 57 99 105 108 112 113 125 139 143 150 155 158 164 169 174 176 182 183 182 177 163 141 133 147 151 164 170 185 200 210 194 188 192 186 185 180 88 64 67 60 46 50 59 65 64 64 64 59 56 101 103 108 109 109 118 134 143 143 147 155 159 166 171 174 177 179 178 172 153 129 143 161 159 166 171 186 197 207 203 185 191 183 179 164 73 67 67 66 48 50 57 65 65 63 64 61 57 103 108 114 112 110 115 128 138 144 145 152 156 159 164 168 172 172 169 161 139 125 147 156 161 162 164 180 188 188 197 185 187 181 180 137 65 70 68 70 52 47 53 62 65 63 65 61 58 105 109 112 120 113 112 122 134 141 149 150 153 155 159 164 167 167 162 152 134 115 126 119 106 99 109 141 158 150 155 175 184 176 175 106 63 70 68 68 50 46 50 57 63 63 64 61 59 107 110 110 117 117 114 117 128 137 147 148 150 153 156 161 162 163 156 150 148 105 70 45 26 25 47 73 74 79 128 177 180 173 157 77 66 68 67 68 52 49 51 56 62 62 62 62 60 101 107 108 114 115 114 117 125 134 143 148 149 152 154 158 160 158 155 160 158 132 88 73 73 64 52 66 91 138 160 174 173 171 125 64 67 63 64 68 54 50 49 54 60 60 60 62 60 98 105 105 109 111 114 117 125 131 139 145 148 153 153 156 157 156 161 168 165 153 139 122 115 105 89 103 150 182 161 171 173 162 89 64 64 62 64 69 56 48 49 56 58 60 59 62 60 89 99 108 106 109 111 119 120 125 134 140 146 152 153 153 153 156 159 162 160 150 136 129 133 133 122 133 148 178 168 168 175 132 61 67 66 65 63 69 57 47 50 55 58 59 61 62 60 89 96 105 107 105 107 117 120 123 124 133 141 149 153 151 145 151 145 139 140 138 128 126 124 129 125 136 142 164 172 168 168 87 58 67 63 62 61 69 57 39 44 55 56 59 63 62 62 84 91 92 98 102 103 113 119 121 118 128 138 146 151 147 142 140 128 127 128 129 126 135 140 135 130 143 146 149 166 174 131 62 65 62 59 67 63 68 83 89 65 42 52 60 60 62 63 77 84 84 91 99 101 107 112 117 118 122 134 145 149 144 134 127 127 129 130 134 125 126 132 152 153 151 150 151 165 171 87 59 65 64 61 58 86 122 138 208 207 154 71 52 56 55 56 69 77 83 85 93 91 102 112 116 118 119 127 140 144 142 131 112 95 85 75 62 58 56 59 87 88 83 127 142 165 149 62 65 62 59 77 113 192 156 84 185 196 197 168 81 70 75 69 58 65 73 82 81 79 95 107 114 116 116 123 136 142 136 132 131 102 71 58 49 41 33 41 36 49 60 99 136 168 111 53 63 71 138 186 203 195 146 87 91 72 79 95 103 82 61 74 55 57 68 75 76 77 84 96 106 110 111 121 130 138 136 142 153 159 152 152 154 145 133 136 147 158 156 155 147 158 74 57 60 123 181 174 126 89 72 67 57 43 55 67 76 86 60 45 51 45 52 68 75 73 77 88 96 100 104 113 115 121 134 146 149 146 149 148 155 168 174 179 178 169 169 174 161 131 44 47 82 150 168 136 104 75 66 80 67 58 48 54 68 88 121 102 51 45 38 53 66 65 70 86 92 96 102 103 109 116 130 136 136 133 136 138 137 135 128 130 143 158 165 164 147 87 62 74 123 160 170 100 99 107 79 71 86 75 57 45 49 65 122 130 43 48 40 39 55 61 59 71 82 87 88 93 105 118 123 128 130 124 111 98 94 88 67 55 84 129 147 148 105 48 82 142 161 164 164 76 72 85 100 88 72 90 84 54 48 54 73 100 73 36 44 31 37 53 51 55 67 74 77 87 97 108 118 125 132 122 106 86 80 82 75 73 83 110 129 126 46 22 130 177 196 193 166 72 52 54 73 100 92 75 99 95 65 68 61 63 91 65 42 37 22 28 39 44 57 68 74 83 92 101 119 131 143 141 134 136 140 139 134 136 139 138 136 85 23 114 202 198 199 180 173 98 36 86 130 150 137 99 77 101 99 72 56 43 77 82 79 70 56 28 20 25 36 50 63 73 83 98 111 124 139 156 160 159 169 168 165 163 159 149 114 43 26 133 183 192 177 152 137 130 125 139 173 195 186 137 101 88 101 105 70 46 77 72 84 87 87 81 64 37 20 31 40 46 65 88 108 110 125 149 157 153 162 164 158 159 154 140 78 21 11 61 144 168 173 157 138 150 148 132 159 182 183 136 106 116 95 106 109 82\n",
            "(35340,)\n",
            "\n",
            "첫번째 데이터 길이(str)\n",
            "8287\n",
            "\n",
            "첫번째 데이터 길이(numpy)\n",
            "2304\n"
          ]
        }
      ]
    },
    {
      "cell_type": "markdown",
      "source": [
        "## **데이터 전처리**"
      ],
      "metadata": {
        "id": "fNEVfvqNGG4e"
      }
    },
    {
      "cell_type": "code",
      "source": [
        "# 데이터 구분 \n",
        "x_train, y_train = Preprocessing(dataset[dataset[' Usage'] == 'Training'])\n",
        "x_val, y_val = Preprocessing(dataset[dataset[' Usage'] == 'PrivateTest'])\n",
        "x_test, y_test = Preprocessing(dataset[dataset[' Usage'] == 'PublicTest'])\n",
        "\n",
        "# 확인\n",
        "print(x_train.shape, x_val.shape, x_test.shape)"
      ],
      "metadata": {
        "colab": {
          "base_uri": "https://localhost:8080/"
        },
        "id": "2TBouyiH7P3E",
        "outputId": "fe548539-90ba-4641-ded2-b51663e27f6a"
      },
      "execution_count": null,
      "outputs": [
        {
          "output_type": "stream",
          "name": "stdout",
          "text": [
            "(28273, 48, 48) (3534, 48, 48) (3533, 48, 48)\n"
          ]
        }
      ]
    },
    {
      "cell_type": "markdown",
      "source": [
        "## **첫번째 이미지 확인**"
      ],
      "metadata": {
        "id": "mZY_AfojGR4E"
      }
    },
    {
      "cell_type": "code",
      "source": [
        "# 첫번째 이미지 확인 \n",
        "plt.imshow(x_train[0], cmap='gray')\n",
        "print(\"label: \", y_train[0])"
      ],
      "metadata": {
        "colab": {
          "base_uri": "https://localhost:8080/",
          "height": 285
        },
        "id": "GyOJBN2KAYfT",
        "outputId": "852d1c27-d593-4225-91b9-0fda99e64307"
      },
      "execution_count": null,
      "outputs": [
        {
          "output_type": "stream",
          "name": "stdout",
          "text": [
            "label:  0\n"
          ]
        },
        {
          "output_type": "display_data",
          "data": {
            "text/plain": [
              "<Figure size 432x288 with 1 Axes>"
            ],
            "image/png": "[encoded data removed]"
          },
          "metadata": {
            "needs_background": "light"
          }
        }
      ]
    },
    {
      "cell_type": "markdown",
      "source": [
        "## **지난 모델**"
      ],
      "metadata": {
        "id": "OepjWVp5Zaga"
      }
    },
    {
      "cell_type": "code",
      "source": [
        "# 모델2\n",
        "model = Sequential([\n",
        "    Flatten(input_shape=(48,48)),\n",
        "    BatchNormalization(),\n",
        "    Dense(128, activation='relu'), \n",
        "    BatchNormalization(),\n",
        "    Dense(7, activation='softmax')\n",
        "\n",
        "])\n",
        "\n",
        "# 모델 컴파일\n",
        "model.compile(\n",
        "    optimizer='adam',\n",
        "    loss='sparse_categorical_crossentropy',\n",
        "    metrics=['accuracy'])\n",
        "\n",
        "# 학습\n",
        "history = model.fit(x_train, y_train, validation_data=(x_val, y_val), epochs=70, batch_size=64, shuffle=True)\n",
        "result = model.evaluate(x_test, y_test);"
      ],
      "metadata": {
        "colab": {
          "base_uri": "https://localhost:8080/"
        },
        "id": "diKOa561ZZnu",
        "outputId": "3983155a-64f5-4f3a-8fd4-8474f6c80321"
      },
      "execution_count": null,
      "outputs": [
        {
          "output_type": "stream",
          "name": "stdout",
          "text": [
            "Epoch 1/70\n",
            "400/400 [==============================] - 2s 4ms/step - loss: 1.6502 - accuracy: 0.3554 - val_loss: 1.5089 - val_accuracy: 0.3829\n",
            "Epoch 2/70\n",
            "400/400 [==============================] - 2s 4ms/step - loss: 1.4706 - accuracy: 0.4057 - val_loss: 1.4914 - val_accuracy: 0.3867\n",
            "Epoch 3/70\n",
            "400/400 [==============================] - 2s 4ms/step - loss: 1.4265 - accuracy: 0.4279 - val_loss: 1.4623 - val_accuracy: 0.4018\n",
            "Epoch 4/70\n",
            "400/400 [==============================] - 2s 4ms/step - loss: 1.3903 - accuracy: 0.4422 - val_loss: 1.4665 - val_accuracy: 0.3977\n",
            "Epoch 5/70\n",
            "400/400 [==============================] - 2s 4ms/step - loss: 1.3597 - accuracy: 0.4552 - val_loss: 1.4869 - val_accuracy: 0.4069\n",
            "Epoch 6/70\n",
            "400/400 [==============================] - 2s 4ms/step - loss: 1.3281 - accuracy: 0.4736 - val_loss: 1.4771 - val_accuracy: 0.4084\n",
            "Epoch 7/70\n",
            "400/400 [==============================] - 2s 5ms/step - loss: 1.2998 - accuracy: 0.4880 - val_loss: 1.4543 - val_accuracy: 0.4233\n",
            "Epoch 8/70\n",
            "400/400 [==============================] - 2s 4ms/step - loss: 1.2753 - accuracy: 0.4968 - val_loss: 1.4472 - val_accuracy: 0.4229\n",
            "Epoch 9/70\n",
            "400/400 [==============================] - 2s 4ms/step - loss: 1.2486 - accuracy: 0.5127 - val_loss: 1.4856 - val_accuracy: 0.4132\n",
            "Epoch 10/70\n",
            "400/400 [==============================] - 2s 4ms/step - loss: 1.2165 - accuracy: 0.5200 - val_loss: 1.5021 - val_accuracy: 0.4305\n",
            "Epoch 11/70\n",
            "400/400 [==============================] - 2s 4ms/step - loss: 1.2100 - accuracy: 0.5261 - val_loss: 1.5100 - val_accuracy: 0.4122\n",
            "Epoch 12/70\n",
            "400/400 [==============================] - 2s 4ms/step - loss: 1.1619 - accuracy: 0.5507 - val_loss: 1.4878 - val_accuracy: 0.4251\n",
            "Epoch 13/70\n",
            "400/400 [==============================] - 2s 4ms/step - loss: 1.1361 - accuracy: 0.5605 - val_loss: 1.5301 - val_accuracy: 0.4100\n",
            "Epoch 14/70\n",
            "400/400 [==============================] - 2s 4ms/step - loss: 1.1098 - accuracy: 0.5744 - val_loss: 1.5275 - val_accuracy: 0.4267\n",
            "Epoch 15/70\n",
            "400/400 [==============================] - 2s 4ms/step - loss: 1.0719 - accuracy: 0.5901 - val_loss: 1.5510 - val_accuracy: 0.4267\n",
            "Epoch 16/70\n",
            "400/400 [==============================] - 2s 4ms/step - loss: 1.0488 - accuracy: 0.6008 - val_loss: 1.5613 - val_accuracy: 0.4359\n",
            "Epoch 17/70\n",
            "400/400 [==============================] - 2s 4ms/step - loss: 1.0287 - accuracy: 0.6078 - val_loss: 1.5990 - val_accuracy: 0.4144\n",
            "Epoch 18/70\n",
            "400/400 [==============================] - 2s 4ms/step - loss: 1.0051 - accuracy: 0.6175 - val_loss: 1.5913 - val_accuracy: 0.4182\n",
            "Epoch 19/70\n",
            "400/400 [==============================] - 2s 4ms/step - loss: 0.9835 - accuracy: 0.6295 - val_loss: 1.6046 - val_accuracy: 0.4267\n",
            "Epoch 20/70\n",
            "400/400 [==============================] - 2s 4ms/step - loss: 0.9568 - accuracy: 0.6414 - val_loss: 1.6553 - val_accuracy: 0.4144\n",
            "Epoch 21/70\n",
            "400/400 [==============================] - 2s 4ms/step - loss: 0.9363 - accuracy: 0.6476 - val_loss: 1.6716 - val_accuracy: 0.4195\n",
            "Epoch 22/70\n",
            "400/400 [==============================] - 2s 4ms/step - loss: 0.9080 - accuracy: 0.6613 - val_loss: 1.6822 - val_accuracy: 0.4274\n",
            "Epoch 23/70\n",
            "400/400 [==============================] - 2s 4ms/step - loss: 0.8970 - accuracy: 0.6650 - val_loss: 1.7329 - val_accuracy: 0.4053\n",
            "Epoch 24/70\n",
            "400/400 [==============================] - 2s 4ms/step - loss: 0.8699 - accuracy: 0.6748 - val_loss: 1.7885 - val_accuracy: 0.4043\n",
            "Epoch 25/70\n",
            "400/400 [==============================] - 2s 4ms/step - loss: 0.8497 - accuracy: 0.6814 - val_loss: 1.7509 - val_accuracy: 0.4255\n",
            "Epoch 26/70\n",
            "400/400 [==============================] - 2s 4ms/step - loss: 0.8468 - accuracy: 0.6834 - val_loss: 1.7635 - val_accuracy: 0.4195\n",
            "Epoch 27/70\n",
            "400/400 [==============================] - 2s 4ms/step - loss: 0.8256 - accuracy: 0.6936 - val_loss: 1.8191 - val_accuracy: 0.4107\n",
            "Epoch 28/70\n",
            "400/400 [==============================] - 2s 4ms/step - loss: 0.8126 - accuracy: 0.6985 - val_loss: 1.8416 - val_accuracy: 0.4138\n",
            "Epoch 29/70\n",
            "400/400 [==============================] - 2s 4ms/step - loss: 0.7896 - accuracy: 0.7076 - val_loss: 1.8761 - val_accuracy: 0.4154\n",
            "Epoch 30/70\n",
            "400/400 [==============================] - 2s 4ms/step - loss: 0.7739 - accuracy: 0.7149 - val_loss: 1.9364 - val_accuracy: 0.4003\n",
            "Epoch 31/70\n",
            "400/400 [==============================] - 2s 4ms/step - loss: 0.7639 - accuracy: 0.7163 - val_loss: 1.9100 - val_accuracy: 0.4182\n",
            "Epoch 32/70\n",
            "400/400 [==============================] - 2s 4ms/step - loss: 0.7325 - accuracy: 0.7313 - val_loss: 1.8875 - val_accuracy: 0.4242\n",
            "Epoch 33/70\n",
            "400/400 [==============================] - 2s 5ms/step - loss: 0.7253 - accuracy: 0.7331 - val_loss: 1.9511 - val_accuracy: 0.4239\n",
            "Epoch 34/70\n",
            "400/400 [==============================] - 2s 5ms/step - loss: 0.7160 - accuracy: 0.7363 - val_loss: 1.9884 - val_accuracy: 0.4223\n",
            "Epoch 35/70\n",
            "400/400 [==============================] - 2s 4ms/step - loss: 0.6955 - accuracy: 0.7453 - val_loss: 1.9827 - val_accuracy: 0.4242\n",
            "Epoch 36/70\n",
            "400/400 [==============================] - 2s 4ms/step - loss: 0.6890 - accuracy: 0.7478 - val_loss: 1.9748 - val_accuracy: 0.4129\n",
            "Epoch 37/70\n",
            "400/400 [==============================] - 2s 4ms/step - loss: 0.6633 - accuracy: 0.7573 - val_loss: 2.0656 - val_accuracy: 0.4072\n",
            "Epoch 38/70\n",
            "400/400 [==============================] - 2s 4ms/step - loss: 0.6602 - accuracy: 0.7603 - val_loss: 2.1041 - val_accuracy: 0.4021\n",
            "Epoch 39/70\n",
            "400/400 [==============================] - 2s 4ms/step - loss: 0.6538 - accuracy: 0.7588 - val_loss: 2.1399 - val_accuracy: 0.4034\n",
            "Epoch 40/70\n",
            "400/400 [==============================] - 2s 4ms/step - loss: 0.6602 - accuracy: 0.7569 - val_loss: 2.1547 - val_accuracy: 0.4144\n",
            "Epoch 41/70\n",
            "400/400 [==============================] - 2s 4ms/step - loss: 0.6345 - accuracy: 0.7691 - val_loss: 2.1338 - val_accuracy: 0.4040\n",
            "Epoch 42/70\n",
            "400/400 [==============================] - 2s 4ms/step - loss: 0.6134 - accuracy: 0.7770 - val_loss: 2.1517 - val_accuracy: 0.4201\n",
            "Epoch 43/70\n",
            "400/400 [==============================] - 2s 4ms/step - loss: 0.6215 - accuracy: 0.7732 - val_loss: 2.2278 - val_accuracy: 0.4286\n",
            "Epoch 44/70\n",
            "400/400 [==============================] - 2s 4ms/step - loss: 0.6089 - accuracy: 0.7779 - val_loss: 2.3230 - val_accuracy: 0.4141\n",
            "Epoch 45/70\n",
            "400/400 [==============================] - 2s 4ms/step - loss: 0.5784 - accuracy: 0.7938 - val_loss: 2.2726 - val_accuracy: 0.4072\n",
            "Epoch 46/70\n",
            "400/400 [==============================] - 2s 4ms/step - loss: 0.6068 - accuracy: 0.7774 - val_loss: 2.2837 - val_accuracy: 0.4129\n",
            "Epoch 47/70\n",
            "400/400 [==============================] - 1s 4ms/step - loss: 0.5797 - accuracy: 0.7897 - val_loss: 2.2452 - val_accuracy: 0.4135\n",
            "Epoch 48/70\n",
            "400/400 [==============================] - 1s 4ms/step - loss: 0.5773 - accuracy: 0.7880 - val_loss: 2.3222 - val_accuracy: 0.4021\n",
            "Epoch 49/70\n",
            "400/400 [==============================] - 1s 4ms/step - loss: 0.5664 - accuracy: 0.7943 - val_loss: 2.2722 - val_accuracy: 0.4141\n",
            "Epoch 50/70\n",
            "400/400 [==============================] - 2s 4ms/step - loss: 0.5524 - accuracy: 0.8010 - val_loss: 2.3366 - val_accuracy: 0.4207\n",
            "Epoch 51/70\n",
            "400/400 [==============================] - 2s 4ms/step - loss: 0.5712 - accuracy: 0.7943 - val_loss: 2.3787 - val_accuracy: 0.3987\n",
            "Epoch 52/70\n",
            "400/400 [==============================] - 2s 4ms/step - loss: 0.5340 - accuracy: 0.8104 - val_loss: 2.3103 - val_accuracy: 0.4166\n",
            "Epoch 53/70\n",
            "400/400 [==============================] - 2s 4ms/step - loss: 0.5402 - accuracy: 0.8042 - val_loss: 2.4121 - val_accuracy: 0.4028\n",
            "Epoch 54/70\n",
            "400/400 [==============================] - 2s 4ms/step - loss: 0.5364 - accuracy: 0.8059 - val_loss: 2.3630 - val_accuracy: 0.4154\n",
            "Epoch 55/70\n",
            "400/400 [==============================] - 2s 4ms/step - loss: 0.5191 - accuracy: 0.8124 - val_loss: 2.4560 - val_accuracy: 0.4069\n",
            "Epoch 56/70\n",
            "400/400 [==============================] - 1s 4ms/step - loss: 0.5318 - accuracy: 0.8093 - val_loss: 2.5635 - val_accuracy: 0.4207\n",
            "Epoch 57/70\n",
            "400/400 [==============================] - 2s 4ms/step - loss: 0.5215 - accuracy: 0.8126 - val_loss: 2.4513 - val_accuracy: 0.4135\n",
            "Epoch 58/70\n",
            "400/400 [==============================] - 2s 4ms/step - loss: 0.5001 - accuracy: 0.8187 - val_loss: 2.4740 - val_accuracy: 0.4110\n",
            "Epoch 59/70\n",
            "400/400 [==============================] - 2s 4ms/step - loss: 0.4910 - accuracy: 0.8236 - val_loss: 2.6424 - val_accuracy: 0.4066\n",
            "Epoch 60/70\n",
            "400/400 [==============================] - 2s 4ms/step - loss: 0.4799 - accuracy: 0.8268 - val_loss: 2.5466 - val_accuracy: 0.4113\n",
            "Epoch 61/70\n",
            "400/400 [==============================] - 2s 4ms/step - loss: 0.5103 - accuracy: 0.8164 - val_loss: 2.5074 - val_accuracy: 0.4170\n",
            "Epoch 62/70\n",
            "400/400 [==============================] - 2s 4ms/step - loss: 0.4876 - accuracy: 0.8267 - val_loss: 2.6276 - val_accuracy: 0.4025\n",
            "Epoch 63/70\n",
            "400/400 [==============================] - 2s 4ms/step - loss: 0.4954 - accuracy: 0.8218 - val_loss: 2.5636 - val_accuracy: 0.4107\n",
            "Epoch 64/70\n",
            "400/400 [==============================] - 2s 4ms/step - loss: 0.4835 - accuracy: 0.8281 - val_loss: 2.7031 - val_accuracy: 0.3880\n",
            "Epoch 65/70\n",
            "400/400 [==============================] - 2s 4ms/step - loss: 0.4619 - accuracy: 0.8366 - val_loss: 2.6042 - val_accuracy: 0.4059\n",
            "Epoch 66/70\n",
            "400/400 [==============================] - 2s 4ms/step - loss: 0.4419 - accuracy: 0.8430 - val_loss: 2.6843 - val_accuracy: 0.4122\n",
            "Epoch 67/70\n",
            "400/400 [==============================] - 2s 4ms/step - loss: 0.4675 - accuracy: 0.8343 - val_loss: 2.5594 - val_accuracy: 0.4088\n",
            "Epoch 68/70\n",
            "400/400 [==============================] - 2s 4ms/step - loss: 0.4478 - accuracy: 0.8418 - val_loss: 2.6811 - val_accuracy: 0.4088\n",
            "Epoch 69/70\n",
            "400/400 [==============================] - 2s 4ms/step - loss: 0.4510 - accuracy: 0.8393 - val_loss: 2.6548 - val_accuracy: 0.4094\n",
            "Epoch 70/70\n",
            "400/400 [==============================] - 2s 4ms/step - loss: 0.4384 - accuracy: 0.8471 - val_loss: 2.6650 - val_accuracy: 0.4107\n",
            "100/100 [==============================] - 0s 2ms/step - loss: 2.7637 - accuracy: 0.4017\n"
          ]
        }
      ]
    },
    {
      "cell_type": "markdown",
      "source": [
        "## **CNN Model**"
      ],
      "metadata": {
        "id": "wE4rVA7hC4PP"
      }
    },
    {
      "cell_type": "code",
      "source": [
        "img_height = 48;\n",
        "img_width = 48;\n",
        "ch = 1;\n",
        "\n",
        "model = Sequential([\n",
        "    Conv2D(32, (3, 3), activation='relu', padding='same', input_shape=(img_height, img_width, ch)),\n",
        "    MaxPooling2D((2, 2), padding='same'),\n",
        "    BatchNormalization(),\n",
        "    Conv2D(64, (3, 3), padding='same', activation='relu'),\n",
        "    MaxPooling2D((2, 2), padding='same'),\n",
        "    # BatchNormalization(),\n",
        "    Dropout(0.2),\n",
        "    Conv2D(64, (3, 3), padding='same', activation='relu'),\n",
        "    MaxPooling2D((2, 2), padding='same'),\n",
        "    BatchNormalization(),\n",
        "    Dropout(0.2),\n",
        "    Conv2D(64, (3, 3), padding='same', activation='relu'),\n",
        "    MaxPooling2D((2, 2), padding='same'),\n",
        "    # BatchNormalization(),\n",
        "    Dropout(0.2),\n",
        "    Conv2D(32, (3, 3), padding='same', activation='relu'),\n",
        "    MaxPooling2D((2, 2), padding='same'),\n",
        "    Flatten(),\n",
        "    Dense(128, activation='relu'),\n",
        "    # Dropout(0.1),\n",
        "    Dense(7, activation='softmax')\n",
        "])\n",
        "\n",
        "# 모델 컴파일\n",
        "model.compile(\n",
        "    optimizer='adam',\n",
        "    loss='sparse_categorical_crossentropy',\n",
        "    metrics=['accuracy'])\n",
        "\n",
        "# model.summary();\n",
        "# plot_model(model, to_file='model.png', show_shapes=True, show_layer_names=True)\n",
        "\n",
        "# 학습\n",
        "history = model.fit(x_train, y_train, validation_data=(x_val, y_val), epochs=70, batch_size=64, shuffle=True)\n",
        "result = model.evaluate(x_test, y_test);"
      ],
      "metadata": {
        "colab": {
          "base_uri": "https://localhost:8080/"
        },
        "id": "uYlZ9Jd0C8v3",
        "outputId": "8395fb2f-d31e-45d4-93ef-62fec8dd215a"
      },
      "execution_count": null,
      "outputs": [
        {
          "output_type": "stream",
          "name": "stdout",
          "text": [
            "Epoch 1/70\n",
            "442/442 [==============================] - 14s 11ms/step - loss: 1.6064 - accuracy: 0.3406 - val_loss: 1.4404 - val_accuracy: 0.4264\n",
            "Epoch 2/70\n",
            "442/442 [==============================] - 4s 9ms/step - loss: 1.3541 - accuracy: 0.4633 - val_loss: 1.3133 - val_accuracy: 0.4901\n",
            "Epoch 3/70\n",
            "442/442 [==============================] - 4s 9ms/step - loss: 1.2577 - accuracy: 0.5057 - val_loss: 1.2233 - val_accuracy: 0.5190\n",
            "Epoch 4/70\n",
            "442/442 [==============================] - 4s 8ms/step - loss: 1.2011 - accuracy: 0.5310 - val_loss: 1.1554 - val_accuracy: 0.5453\n",
            "Epoch 5/70\n",
            "442/442 [==============================] - 4s 9ms/step - loss: 1.1549 - accuracy: 0.5487 - val_loss: 1.1289 - val_accuracy: 0.5634\n",
            "Epoch 6/70\n",
            "442/442 [==============================] - 4s 8ms/step - loss: 1.1137 - accuracy: 0.5696 - val_loss: 1.1057 - val_accuracy: 0.5608\n",
            "Epoch 7/70\n",
            "442/442 [==============================] - 4s 8ms/step - loss: 1.0892 - accuracy: 0.5761 - val_loss: 1.1290 - val_accuracy: 0.5676\n",
            "Epoch 8/70\n",
            "442/442 [==============================] - 4s 8ms/step - loss: 1.0612 - accuracy: 0.5901 - val_loss: 1.1338 - val_accuracy: 0.5642\n",
            "Epoch 9/70\n",
            "442/442 [==============================] - 4s 9ms/step - loss: 1.0370 - accuracy: 0.5996 - val_loss: 1.1092 - val_accuracy: 0.5620\n",
            "Epoch 10/70\n",
            "442/442 [==============================] - 4s 9ms/step - loss: 1.0254 - accuracy: 0.6041 - val_loss: 1.1112 - val_accuracy: 0.5792\n",
            "Epoch 11/70\n",
            "442/442 [==============================] - 4s 10ms/step - loss: 1.0020 - accuracy: 0.6131 - val_loss: 1.0432 - val_accuracy: 0.6038\n",
            "Epoch 12/70\n",
            "442/442 [==============================] - 4s 9ms/step - loss: 0.9896 - accuracy: 0.6184 - val_loss: 1.0785 - val_accuracy: 0.5886\n",
            "Epoch 13/70\n",
            "442/442 [==============================] - 4s 8ms/step - loss: 0.9686 - accuracy: 0.6291 - val_loss: 1.0743 - val_accuracy: 0.5877\n",
            "Epoch 14/70\n",
            "442/442 [==============================] - 4s 8ms/step - loss: 0.9527 - accuracy: 0.6323 - val_loss: 1.0470 - val_accuracy: 0.5999\n",
            "Epoch 15/70\n",
            "442/442 [==============================] - 4s 8ms/step - loss: 0.9408 - accuracy: 0.6364 - val_loss: 1.1105 - val_accuracy: 0.5685\n",
            "Epoch 16/70\n",
            "442/442 [==============================] - 4s 8ms/step - loss: 0.9265 - accuracy: 0.6456 - val_loss: 1.0238 - val_accuracy: 0.6078\n",
            "Epoch 17/70\n",
            "442/442 [==============================] - 4s 8ms/step - loss: 0.9128 - accuracy: 0.6529 - val_loss: 1.0179 - val_accuracy: 0.6092\n",
            "Epoch 18/70\n",
            "442/442 [==============================] - 4s 8ms/step - loss: 0.9078 - accuracy: 0.6526 - val_loss: 1.0524 - val_accuracy: 0.6123\n",
            "Epoch 19/70\n",
            "442/442 [==============================] - 4s 8ms/step - loss: 0.8945 - accuracy: 0.6572 - val_loss: 1.0436 - val_accuracy: 0.6058\n",
            "Epoch 20/70\n",
            "442/442 [==============================] - 4s 8ms/step - loss: 0.8904 - accuracy: 0.6594 - val_loss: 1.0360 - val_accuracy: 0.6211\n",
            "Epoch 21/70\n",
            "442/442 [==============================] - 4s 8ms/step - loss: 0.8774 - accuracy: 0.6611 - val_loss: 1.0485 - val_accuracy: 0.6129\n",
            "Epoch 22/70\n",
            "442/442 [==============================] - 3s 8ms/step - loss: 0.8666 - accuracy: 0.6683 - val_loss: 1.0234 - val_accuracy: 0.6174\n",
            "Epoch 23/70\n",
            "442/442 [==============================] - 4s 9ms/step - loss: 0.8555 - accuracy: 0.6736 - val_loss: 1.0169 - val_accuracy: 0.6121\n",
            "Epoch 24/70\n",
            "442/442 [==============================] - 4s 9ms/step - loss: 0.8546 - accuracy: 0.6729 - val_loss: 1.0403 - val_accuracy: 0.6205\n",
            "Epoch 25/70\n",
            "442/442 [==============================] - 4s 8ms/step - loss: 0.8458 - accuracy: 0.6759 - val_loss: 1.0214 - val_accuracy: 0.6262\n",
            "Epoch 26/70\n",
            "442/442 [==============================] - 4s 8ms/step - loss: 0.8384 - accuracy: 0.6817 - val_loss: 1.0689 - val_accuracy: 0.6180\n",
            "Epoch 27/70\n",
            "442/442 [==============================] - 3s 8ms/step - loss: 0.8352 - accuracy: 0.6838 - val_loss: 1.0394 - val_accuracy: 0.6123\n",
            "Epoch 28/70\n",
            "442/442 [==============================] - 4s 8ms/step - loss: 0.8213 - accuracy: 0.6863 - val_loss: 1.0255 - val_accuracy: 0.6194\n",
            "Epoch 29/70\n",
            "442/442 [==============================] - 4s 8ms/step - loss: 0.8148 - accuracy: 0.6889 - val_loss: 1.0853 - val_accuracy: 0.6081\n",
            "Epoch 30/70\n",
            "442/442 [==============================] - 4s 8ms/step - loss: 0.8165 - accuracy: 0.6878 - val_loss: 1.0448 - val_accuracy: 0.6126\n",
            "Epoch 31/70\n",
            "442/442 [==============================] - 3s 8ms/step - loss: 0.8073 - accuracy: 0.6932 - val_loss: 1.0814 - val_accuracy: 0.6033\n",
            "Epoch 32/70\n",
            "442/442 [==============================] - 4s 8ms/step - loss: 0.8015 - accuracy: 0.6939 - val_loss: 1.0297 - val_accuracy: 0.6256\n",
            "Epoch 33/70\n",
            "442/442 [==============================] - 3s 8ms/step - loss: 0.7882 - accuracy: 0.6998 - val_loss: 1.0845 - val_accuracy: 0.6123\n",
            "Epoch 34/70\n",
            "442/442 [==============================] - 4s 8ms/step - loss: 0.7870 - accuracy: 0.7010 - val_loss: 1.0182 - val_accuracy: 0.6256\n",
            "Epoch 35/70\n",
            "442/442 [==============================] - 3s 8ms/step - loss: 0.7806 - accuracy: 0.7006 - val_loss: 1.0473 - val_accuracy: 0.6149\n",
            "Epoch 36/70\n",
            "442/442 [==============================] - 4s 8ms/step - loss: 0.7761 - accuracy: 0.7061 - val_loss: 1.0356 - val_accuracy: 0.6251\n",
            "Epoch 37/70\n",
            "442/442 [==============================] - 3s 8ms/step - loss: 0.7688 - accuracy: 0.7070 - val_loss: 1.0430 - val_accuracy: 0.6302\n",
            "Epoch 38/70\n",
            "442/442 [==============================] - 3s 8ms/step - loss: 0.7655 - accuracy: 0.7101 - val_loss: 1.0586 - val_accuracy: 0.6205\n",
            "Epoch 39/70\n",
            "442/442 [==============================] - 4s 8ms/step - loss: 0.7576 - accuracy: 0.7121 - val_loss: 1.0319 - val_accuracy: 0.6327\n",
            "Epoch 40/70\n",
            "442/442 [==============================] - 4s 8ms/step - loss: 0.7566 - accuracy: 0.7127 - val_loss: 1.0373 - val_accuracy: 0.6290\n",
            "Epoch 41/70\n",
            "442/442 [==============================] - 4s 8ms/step - loss: 0.7550 - accuracy: 0.7121 - val_loss: 1.0272 - val_accuracy: 0.6177\n",
            "Epoch 42/70\n",
            "442/442 [==============================] - 4s 9ms/step - loss: 0.7458 - accuracy: 0.7162 - val_loss: 1.0533 - val_accuracy: 0.6143\n",
            "Epoch 43/70\n",
            "442/442 [==============================] - 3s 8ms/step - loss: 0.7480 - accuracy: 0.7175 - val_loss: 1.0472 - val_accuracy: 0.6364\n",
            "Epoch 44/70\n",
            "442/442 [==============================] - 4s 8ms/step - loss: 0.7396 - accuracy: 0.7219 - val_loss: 1.0206 - val_accuracy: 0.6268\n",
            "Epoch 45/70\n",
            "442/442 [==============================] - 4s 8ms/step - loss: 0.7394 - accuracy: 0.7197 - val_loss: 1.0069 - val_accuracy: 0.6358\n",
            "Epoch 46/70\n",
            "442/442 [==============================] - 4s 8ms/step - loss: 0.7275 - accuracy: 0.7250 - val_loss: 1.0461 - val_accuracy: 0.6220\n",
            "Epoch 47/70\n",
            "442/442 [==============================] - 3s 8ms/step - loss: 0.7341 - accuracy: 0.7229 - val_loss: 1.0385 - val_accuracy: 0.6256\n",
            "Epoch 48/70\n",
            "442/442 [==============================] - 3s 8ms/step - loss: 0.7242 - accuracy: 0.7255 - val_loss: 1.0421 - val_accuracy: 0.6262\n",
            "Epoch 49/70\n",
            "442/442 [==============================] - 4s 8ms/step - loss: 0.7129 - accuracy: 0.7312 - val_loss: 1.0237 - val_accuracy: 0.6347\n",
            "Epoch 50/70\n",
            "442/442 [==============================] - 4s 8ms/step - loss: 0.7157 - accuracy: 0.7286 - val_loss: 1.0555 - val_accuracy: 0.6160\n",
            "Epoch 51/70\n",
            "442/442 [==============================] - 3s 8ms/step - loss: 0.7146 - accuracy: 0.7304 - val_loss: 1.0546 - val_accuracy: 0.6234\n",
            "Epoch 52/70\n",
            "442/442 [==============================] - 4s 8ms/step - loss: 0.7107 - accuracy: 0.7338 - val_loss: 1.0447 - val_accuracy: 0.6333\n",
            "Epoch 53/70\n",
            "442/442 [==============================] - 4s 8ms/step - loss: 0.7063 - accuracy: 0.7320 - val_loss: 1.0481 - val_accuracy: 0.6285\n",
            "Epoch 54/70\n",
            "442/442 [==============================] - 4s 8ms/step - loss: 0.7038 - accuracy: 0.7342 - val_loss: 1.0478 - val_accuracy: 0.6367\n",
            "Epoch 55/70\n",
            "442/442 [==============================] - 4s 8ms/step - loss: 0.7019 - accuracy: 0.7332 - val_loss: 1.0705 - val_accuracy: 0.6293\n",
            "Epoch 56/70\n",
            "442/442 [==============================] - 4s 8ms/step - loss: 0.6962 - accuracy: 0.7376 - val_loss: 1.0517 - val_accuracy: 0.6271\n",
            "Epoch 57/70\n",
            "442/442 [==============================] - 4s 8ms/step - loss: 0.6946 - accuracy: 0.7362 - val_loss: 1.0521 - val_accuracy: 0.6319\n",
            "Epoch 58/70\n",
            "442/442 [==============================] - 4s 8ms/step - loss: 0.6981 - accuracy: 0.7358 - val_loss: 1.0819 - val_accuracy: 0.6304\n",
            "Epoch 59/70\n",
            "442/442 [==============================] - 4s 8ms/step - loss: 0.6959 - accuracy: 0.7377 - val_loss: 1.0806 - val_accuracy: 0.6160\n",
            "Epoch 60/70\n",
            "442/442 [==============================] - 3s 8ms/step - loss: 0.6878 - accuracy: 0.7413 - val_loss: 1.0317 - val_accuracy: 0.6372\n",
            "Epoch 61/70\n",
            "442/442 [==============================] - 4s 8ms/step - loss: 0.6822 - accuracy: 0.7406 - val_loss: 1.0451 - val_accuracy: 0.6353\n",
            "Epoch 62/70\n",
            "442/442 [==============================] - 4s 8ms/step - loss: 0.6804 - accuracy: 0.7424 - val_loss: 1.0933 - val_accuracy: 0.6239\n",
            "Epoch 63/70\n",
            "442/442 [==============================] - 4s 9ms/step - loss: 0.6785 - accuracy: 0.7430 - val_loss: 1.0491 - val_accuracy: 0.6304\n",
            "Epoch 64/70\n",
            "442/442 [==============================] - 5s 11ms/step - loss: 0.6706 - accuracy: 0.7474 - val_loss: 1.0754 - val_accuracy: 0.6245\n",
            "Epoch 65/70\n",
            "442/442 [==============================] - 4s 8ms/step - loss: 0.6668 - accuracy: 0.7481 - val_loss: 1.0515 - val_accuracy: 0.6273\n",
            "Epoch 66/70\n",
            "442/442 [==============================] - 4s 8ms/step - loss: 0.6648 - accuracy: 0.7472 - val_loss: 1.0509 - val_accuracy: 0.6290\n",
            "Epoch 67/70\n",
            "442/442 [==============================] - 3s 8ms/step - loss: 0.6642 - accuracy: 0.7500 - val_loss: 1.0675 - val_accuracy: 0.6293\n",
            "Epoch 68/70\n",
            "442/442 [==============================] - 4s 8ms/step - loss: 0.6616 - accuracy: 0.7491 - val_loss: 1.0405 - val_accuracy: 0.6364\n",
            "Epoch 69/70\n",
            "442/442 [==============================] - 3s 8ms/step - loss: 0.6538 - accuracy: 0.7537 - val_loss: 1.0746 - val_accuracy: 0.6302\n",
            "Epoch 70/70\n",
            "442/442 [==============================] - 4s 8ms/step - loss: 0.6596 - accuracy: 0.7520 - val_loss: 1.0879 - val_accuracy: 0.6287\n",
            "111/111 [==============================] - 1s 4ms/step - loss: 1.1039 - accuracy: 0.6168\n"
          ]
        }
      ]
    },
    {
      "cell_type": "markdown",
      "source": [
        "## **Confusion Matrix**"
      ],
      "metadata": {
        "id": "63NYl_rWfv85"
      }
    },
    {
      "cell_type": "code",
      "source": [
        "from sklearn.metrics import confusion_matrix\n",
        "from sklearn.metrics import confusion_matrix, ConfusionMatrixDisplay\n",
        "\n",
        "confusion_matrix(y_test, listarray)\n",
        "\n",
        "cm = confusion_matrix(y_test, listarray, labels=[0,1,2])\n",
        "cm=cm / cm.astype(np.float).sum(axis=1)\n",
        "disp = ConfusionMatrixDisplay(confusion_matrix=cm,display_labels=[0,1,2])\n",
        "disp.plot()\n",
        "plt.show()"
      ],
      "metadata": {
        "id": "PrSp2zI1fz4H"
      },
      "execution_count": null,
      "outputs": []
    },
    {
      "cell_type": "markdown",
      "source": [
        "## **차트**"
      ],
      "metadata": {
        "id": "tZDqBnlHGWfc"
      }
    },
    {
      "cell_type": "code",
      "source": [
        "plt.plot(history.history['accuracy'])\n",
        "plt.plot(history.history['val_accuracy'])\n",
        "plt.xlabel('epoch')\n",
        "plt.ylabel('accuracy')\n",
        "plt.legend(['training', 'validation'])"
      ],
      "metadata": {
        "id": "hzzBxLIPGaCg",
        "colab": {
          "base_uri": "https://localhost:8080/",
          "height": 297
        },
        "outputId": "e29b4538-6f16-4475-c436-445110a3e234"
      },
      "execution_count": null,
      "outputs": [
        {
          "output_type": "execute_result",
          "data": {
            "text/plain": [
              "<matplotlib.legend.Legend at 0x7ff7f02c1f10>"
            ]
          },
          "metadata": {},
          "execution_count": 7
        },
        {
          "output_type": "display_data",
          "data": {
            "text/plain": [
              "<Figure size 432x288 with 1 Axes>"
            ],
            "image/png": "[encoded data removed]"
          },
          "metadata": {
            "needs_background": "light"
          }
        }
      ]
    },
    {
      "cell_type": "markdown",
      "source": [
        "## **테스트 결과**"
      ],
      "metadata": {
        "id": "fIE-OlRgGbWG"
      }
    },
    {
      "cell_type": "code",
      "source": [
        "print('test result loss rate : ', result[0])\n",
        "print('test result accuracy rate : ', result[1])"
      ],
      "metadata": {
        "id": "77b5Sai8Gdkd",
        "colab": {
          "base_uri": "https://localhost:8080/"
        },
        "outputId": "fe32fdd0-ad9c-4712-f5c5-a3caed9e9ccf"
      },
      "execution_count": null,
      "outputs": [
        {
          "output_type": "stream",
          "name": "stdout",
          "text": [
            "test result loss rate :  1.1039031744003296\n",
            "test result accuracy rate :  0.6167563199996948\n"
          ]
        }
      ]
    }
  ]
}